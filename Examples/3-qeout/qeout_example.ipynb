{
 "cells": [
  {
   "cell_type": "code",
   "execution_count": null,
   "metadata": {},
   "outputs": [],
   "source": [
    "import pw2py as pw"
   ]
  },
  {
   "cell_type": "markdown",
   "metadata": {},
   "source": [
    "### How to create a qeout object"
   ]
  },
  {
   "cell_type": "code",
   "execution_count": null,
   "metadata": {},
   "outputs": [],
   "source": [
    "# create an 'qeout' object from a qe file\n",
    "filename = 'relax.out'\n",
    "out = pw.qeout.from_file(filename)"
   ]
  },
  {
   "cell_type": "markdown",
   "metadata": {},
   "source": [
    "### Attributes of the qeout object"
   ]
  },
  {
   "cell_type": "code",
   "execution_count": null,
   "metadata": {},
   "outputs": [],
   "source": [
    "[d for d in dir(out) if not d.startswith('_')]"
   ]
  },
  {
   "cell_type": "code",
   "execution_count": null,
   "metadata": {},
   "outputs": [],
   "source": [
    "print('-'*20, 'out.ion', '-'*20)\n",
    "print(out.ion)          # ion names\n",
    "print('-'*20, 'out.pos_units', '-'*20)\n",
    "print(out.pos_units)    # units for the positions (crystal, angstrom, and bohr are supported)\n",
    "print('-'*20, 'out.list_pos', '-'*20)\n",
    "print(out.list_pos)     # xyz positions\n",
    "print('-'*20, 'out.list_eigs', '-'*20)\n",
    "print(out.list_eigs)    # eigenvalues at gamma point\n",
    "print('-'*20, 'out.par', '-'*20)\n",
    "print(out.par)          # cell parameters"
   ]
  },
  {
   "cell_type": "markdown",
   "metadata": {},
   "source": [
    "### Final energy of qe output"
   ]
  },
  {
   "cell_type": "code",
   "execution_count": null,
   "metadata": {},
   "outputs": [],
   "source": [
    "# by far one of the most useful functions defined in qeout can be called without creating a qeout object\n",
    "# this is final_energy which as the name states returns the final energy of the final\n",
    "print(pw.qeout.final_energy(filename)) # returns a tuple of (energy, convergence level) (convergence level can be 'total energy' '!' '!!' or 'Final')"
   ]
  },
  {
   "cell_type": "markdown",
   "metadata": {},
   "source": [
    "### Convergence of qe output"
   ]
  },
  {
   "cell_type": "code",
   "execution_count": null,
   "metadata": {},
   "outputs": [],
   "source": [
    "out.conv"
   ]
  },
  {
   "cell_type": "markdown",
   "metadata": {},
   "source": [
    "### Read the help menu"
   ]
  },
  {
   "cell_type": "code",
   "execution_count": null,
   "metadata": {},
   "outputs": [],
   "source": [
    "help(out)"
   ]
  }
 ],
 "metadata": {
  "kernelspec": {
   "display_name": "Python 3",
   "language": "python",
   "name": "python3"
  },
  "language_info": {
   "codemirror_mode": {
    "name": "ipython",
    "version": 3
   },
   "file_extension": ".py",
   "mimetype": "text/x-python",
   "name": "python",
   "nbconvert_exporter": "python",
   "pygments_lexer": "ipython3",
   "version": "3.8.2"
  }
 },
 "nbformat": 4,
 "nbformat_minor": 4
}
