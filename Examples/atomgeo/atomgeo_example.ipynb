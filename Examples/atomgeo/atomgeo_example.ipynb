{
 "cells": [
  {
   "cell_type": "code",
   "execution_count": null,
   "metadata": {},
   "outputs": [],
   "source": [
    "import pw2py as pw"
   ]
  },
  {
   "cell_type": "markdown",
   "metadata": {},
   "source": [
    "### How to create an atomgeo object"
   ]
  },
  {
   "cell_type": "code",
   "execution_count": null,
   "metadata": {},
   "outputs": [],
   "source": [
    "# create an 'atomgeo' object from a qe file (can also read vasp, xyz, xsf, jdftx)\n",
    "filename = 'relax.out'\n",
    "geo = pw.atomgeo.from_file(filename)"
   ]
  },
  {
   "cell_type": "markdown",
   "metadata": {},
   "source": [
    "### Attributes of the atomgeo object"
   ]
  },
  {
   "cell_type": "code",
   "execution_count": null,
   "metadata": {},
   "outputs": [],
   "source": [
    "# print some things about the geometry\n",
    "print('-'*20, 'geo.ion', '-'*20)\n",
    "print(geo.ion)          # ion names\n",
    "print('-'*20, 'geo.pos_units', '-'*20)\n",
    "print(geo.pos_units)    # units for the positions (crystal, angstrom, and bohr are supported)\n",
    "print('-'*20, 'geo.pos', '-'*20)\n",
    "print(geo.pos)          # xyz positions\n",
    "print('-'*20, 'geo.par_units', '-'*20)\n",
    "print(geo.par_units)    # units for the cell parameters (ibrav supported!)\n",
    "print('-'*20, 'geo.par', '-'*20)\n",
    "print(geo.par)          # cell parameters"
   ]
  },
  {
   "cell_type": "markdown",
   "metadata": {},
   "source": [
    "### Some cool things you can do"
   ]
  },
  {
   "cell_type": "code",
   "execution_count": null,
   "metadata": {},
   "outputs": [],
   "source": [
    "# convert positions to angstrom\n",
    "geo.pos_units = 'angstrom'\n",
    "print(geo.pos)"
   ]
  },
  {
   "cell_type": "code",
   "execution_count": null,
   "metadata": {},
   "outputs": [],
   "source": [
    "# replace all instances of Sn with Zr\n",
    "geo.replace_ion('Sn', 'Zr')\n",
    "print(geo.ion)"
   ]
  },
  {
   "cell_type": "code",
   "execution_count": null,
   "metadata": {},
   "outputs": [],
   "source": [
    "# return mass of each element\n",
    "print(geo.mass())"
   ]
  },
  {
   "cell_type": "code",
   "execution_count": null,
   "metadata": {},
   "outputs": [],
   "source": [
    "# calculate 20 nearest neighbors of atom120 (careful python is base 0 so input 119)\n",
    "df = geo.nearest_neighbor(119, return_type='df', N=20, include_site=True)\n",
    "df.to_csv('neighbors.csv')  # write to csv file\n",
    "print(df.iloc[1:7]) # print the first 6 nearest neighbors bonded to atom120"
   ]
  },
  {
   "cell_type": "markdown",
   "metadata": {},
   "source": [
    "### Write the geo to a new file"
   ]
  },
  {
   "cell_type": "code",
   "execution_count": null,
   "metadata": {},
   "outputs": [],
   "source": [
    "# write some new file formats (will use extension but you can also use the ftype keyword)\n",
    "geo.write_file('relax.vasp')\n",
    "geo.write_file('relax.xsf')"
   ]
  },
  {
   "cell_type": "markdown",
   "metadata": {},
   "source": [
    "### Read the help menu"
   ]
  },
  {
   "cell_type": "code",
   "execution_count": null,
   "metadata": {},
   "outputs": [],
   "source": [
    "help(geo)"
   ]
  }
 ],
 "metadata": {
  "kernelspec": {
   "display_name": "Python 3",
   "language": "python",
   "name": "python3"
  },
  "language_info": {
   "codemirror_mode": {
    "name": "ipython",
    "version": 3
   },
   "file_extension": ".py",
   "mimetype": "text/x-python",
   "name": "python",
   "nbconvert_exporter": "python",
   "pygments_lexer": "ipython3",
   "version": "3.8.2"
  }
 },
 "nbformat": 4,
 "nbformat_minor": 4
}
