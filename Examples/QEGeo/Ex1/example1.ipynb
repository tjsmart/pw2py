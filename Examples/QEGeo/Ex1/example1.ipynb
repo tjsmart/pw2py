{
 "cells": [
  {
   "cell_type": "markdown",
   "metadata": {},
   "source": [
    "Example of using the pw2py module\n",
    "==="
   ]
  },
  {
   "cell_type": "markdown",
   "metadata": {},
   "source": [
    "Import the pw2py module (see instructions in the base repository README.md for installing pw2py)"
   ]
  },
  {
   "cell_type": "code",
   "execution_count": 8,
   "metadata": {},
   "outputs": [],
   "source": [
    "# imports the pw2py module (instructions see README.md)\n",
    "import pw2py as pw\n",
    "import numpy as np"
   ]
  },
  {
   "cell_type": "markdown",
   "metadata": {},
   "source": [
    "Using the atomgeo class"
   ]
  },
  {
   "cell_type": "code",
   "execution_count": 9,
   "metadata": {},
   "outputs": [],
   "source": [
    "# create qeinp object, reading from a file \"Si.sample.in\"\n",
    "geo = pw.atomgeo.from_file(\"Si.sample.in\")"
   ]
  },
  {
   "cell_type": "code",
   "execution_count": 3,
   "metadata": {},
   "outputs": [
    {
     "name": "stdout",
     "output_type": "stream",
     "text": [
      "&control\n",
      "/\n",
      "&system\n",
      "    ibrav = 0\n",
      "    ntyp = 1\n",
      "    nat = 2\n",
      "/\n",
      "&electrons\n",
      "/\n",
      "CELL_PARAMETERS angstrom\n",
      "        -2.714679092       0.000000000       2.714679092\n",
      "         0.000000000       2.714679092       2.714679092\n",
      "        -2.714679092       2.714679092       0.000000000\n",
      "ATOMIC_POSITIONS crystal\n",
      "    Si          0.000000000       0.000000000       0.000000000\n",
      "    Si          0.250000000       0.250000000       0.250000000\n",
      "\n",
      "-----------------\n",
      "Generated from the PW2PY python module\n",
      "1.0\n",
      "        -2.714679092       0.000000000       2.714679092\n",
      "         0.000000000       2.714679092       2.714679092\n",
      "        -2.714679092       2.714679092       0.000000000\n",
      "     Si\n",
      "     2\n",
      "direct\n",
      "         0.000000000       0.000000000       0.000000000\n",
      "         0.250000000       0.250000000       0.250000000\n",
      "\n",
      "-----------------\n",
      "# Generated from the PW2PY python module\n",
      "lattice \\\n",
      "        -5.130000000       0.000000000      -5.130000000 \\\n",
      "         0.000000000       5.130000000       5.130000000 \\\n",
      "         5.130000000       5.130000000       0.000000000\n",
      "ion  Si          0.000000000       0.000000000       0.000000000 1\n",
      "ion  Si          0.250000000       0.250000000       0.250000000 1\n",
      "\n",
      "-----------------\n",
      "2\n",
      "Generated from PW2PY python module\n",
      "    Si          0.000000000       0.000000000       0.000000000\n",
      "    Si         -1.357339546       1.357339546       1.357339546\n",
      "\n",
      "-----------------\n"
     ]
    }
   ],
   "source": [
    "for ftype in ['qe', 'vasp', 'jdftx', 'xyz']:\n",
    "    print(geo.__str__(ftype=ftype))\n",
    "    print('-----------------')"
   ]
  },
  {
   "cell_type": "code",
   "execution_count": 21,
   "metadata": {},
   "outputs": [
    {
     "data": {
      "text/plain": [
       "atomgeo(ion = array(['Si', 'Si'], dtype='<U2'),par = array([[-2.71467909,  0.        ,  2.71467909],\n",
       "       [ 0.        ,  2.71467909,  2.71467909],\n",
       "       [-2.71467909,  2.71467909,  0.        ]]),pos = array([[0.  , 0.  , 0.  ],\n",
       "       [0.25, 0.25, 0.25]]),par_units = 'angstrom',pos_units = 'crystal')"
      ]
     },
     "execution_count": 21,
     "metadata": {},
     "output_type": "execute_result"
    }
   ],
   "source": [
    "geo.pos_units = 'bohr'\n",
    "geo.par_units = 'angstrom'\n",
    "geo.par_units = 'bohr'\n",
    "geo.pos_units = 'crystal'\n",
    "geo.par_units = 'angstrom'\n",
    "geo"
   ]
  },
  {
   "cell_type": "code",
   "execution_count": 5,
   "metadata": {},
   "outputs": [
    {
     "data": {
      "text/plain": [
       "'&control\\n/\\n&system\\n    ibrav = 0\\n    ntyp = 1\\n    nat = 2\\n/\\n&electrons\\n/\\nCELL_PARAMETERS bohr\\n        -5.130000000       0.000000000       5.130000000\\n         0.000000000       5.130000000       5.130000000\\n        -5.130000000       5.130000000       0.000000000\\nATOMIC_POSITIONS crystal\\n    Si          0.000000000       0.000000000       0.000000000\\n    Si          0.250000000       0.250000000       0.250000000\\n'"
      ]
     },
     "execution_count": 5,
     "metadata": {},
     "output_type": "execute_result"
    }
   ],
   "source": [
    "geo.__str__(ftype='test')"
   ]
  },
  {
   "cell_type": "code",
   "execution_count": 34,
   "metadata": {
    "scrolled": true
   },
   "outputs": [
    {
     "data": {
      "text/plain": [
       "['change_units_par',\n",
       " 'change_units_pos',\n",
       " 'from_file',\n",
       " 'ion',\n",
       " 'nat',\n",
       " 'par',\n",
       " 'par_units',\n",
       " 'pos',\n",
       " 'pos_units',\n",
       " 'sort_ions',\n",
       " 'write_file',\n",
       " 'write_jdftx',\n",
       " 'write_vasp',\n",
       " 'write_xyz']"
      ]
     },
     "execution_count": 34,
     "metadata": {},
     "output_type": "execute_result"
    }
   ],
   "source": [
    "# methods available for this object\n",
    "[d for d in dir(geo) if not d.startswith('_')]"
   ]
  },
  {
   "cell_type": "code",
   "execution_count": 35,
   "metadata": {},
   "outputs": [
    {
     "data": {
      "text/plain": [
       "['Si', 'Si']"
      ]
     },
     "execution_count": 35,
     "metadata": {},
     "output_type": "execute_result"
    }
   ],
   "source": [
    "# list of ions\n",
    "geo.ion"
   ]
  },
  {
   "cell_type": "code",
   "execution_count": 36,
   "metadata": {},
   "outputs": [
    {
     "data": {
      "text/plain": [
       "2"
      ]
     },
     "execution_count": 36,
     "metadata": {},
     "output_type": "execute_result"
    }
   ],
   "source": [
    "# number of atoms\n",
    "geo.nat"
   ]
  },
  {
   "cell_type": "code",
   "execution_count": 37,
   "metadata": {},
   "outputs": [
    {
     "data": {
      "text/plain": [
       "array([[-2.71467909,  0.        ,  2.71467909],\n",
       "       [ 0.        ,  2.71467909,  2.71467909],\n",
       "       [-2.71467909,  2.71467909,  0.        ]])"
      ]
     },
     "execution_count": 37,
     "metadata": {},
     "output_type": "execute_result"
    }
   ],
   "source": [
    "# array of cell parameters\n",
    "geo.par"
   ]
  },
  {
   "cell_type": "code",
   "execution_count": 38,
   "metadata": {},
   "outputs": [
    {
     "data": {
      "text/plain": [
       "array([[0.  , 0.  , 0.  ],\n",
       "       [0.25, 0.25, 0.25]])"
      ]
     },
     "execution_count": 38,
     "metadata": {},
     "output_type": "execute_result"
    }
   ],
   "source": [
    "# array of atomic positions\n",
    "geo.pos"
   ]
  },
  {
   "cell_type": "code",
   "execution_count": 39,
   "metadata": {},
   "outputs": [
    {
     "name": "stdout",
     "output_type": "stream",
     "text": [
      "&control\n",
      "/\n",
      "&system\n",
      "    ibrav = 0\n",
      "    ntyp = 1\n",
      "    nat = 2\n",
      "/\n",
      "&electrons\n",
      "/\n",
      "CELL_PARAMETERS angstrom\n",
      "        -2.714679092       0.000000000       2.714679092\n",
      "         0.000000000       2.714679092       2.714679092\n",
      "        -2.714679092       2.714679092       0.000000000\n",
      "ATOMIC_POSITIONS crystal\n",
      "    Si          0.000000000       0.000000000       0.000000000\n",
      "    Si          0.250000000       0.250000000       0.250000000\n",
      "\n"
     ]
    }
   ],
   "source": [
    "# str also looks good!\n",
    "print(geo)"
   ]
  },
  {
   "cell_type": "code",
   "execution_count": 4,
   "metadata": {},
   "outputs": [],
   "source": [
    "atoms = [['C', 'N', 'O'], [[1,1,1],[2,2,2],[3,4,5]]]\n",
    "geo.add_atom(atoms)"
   ]
  },
  {
   "cell_type": "code",
   "execution_count": 5,
   "metadata": {},
   "outputs": [
    {
     "name": "stdout",
     "output_type": "stream",
     "text": [
      "&control\n",
      "/\n",
      "&system\n",
      "    ibrav = 0\n",
      "    ntyp = 4\n",
      "    nat = 5\n",
      "/\n",
      "&electrons\n",
      "/\n",
      "CELL_PARAMETERS angstrom\n",
      "        -2.714679092       0.000000000       2.714679092\n",
      "         0.000000000       2.714679092       2.714679092\n",
      "        -2.714679092       2.714679092       0.000000000\n",
      "ATOMIC_POSITIONS bohr\n",
      "    Si          0.000000000       0.000000000       0.000000000\n",
      "    Si         -2.565000000       2.565000000       2.565000000\n",
      "    C           1.000000000       1.000000000       1.000000000\n",
      "    N           2.000000000       2.000000000       2.000000000\n",
      "    O           3.000000000       4.000000000       5.000000000\n",
      "\n"
     ]
    }
   ],
   "source": [
    "print(geo)"
   ]
  },
  {
   "cell_type": "code",
   "execution_count": 6,
   "metadata": {},
   "outputs": [],
   "source": [
    "geo.remove_indices([2,3,4])"
   ]
  },
  {
   "cell_type": "code",
   "execution_count": 7,
   "metadata": {},
   "outputs": [
    {
     "name": "stdout",
     "output_type": "stream",
     "text": [
      "&control\n",
      "/\n",
      "&system\n",
      "    ibrav = 0\n",
      "    ntyp = 1\n",
      "    nat = 2\n",
      "/\n",
      "&electrons\n",
      "/\n",
      "CELL_PARAMETERS angstrom\n",
      "        -2.714679092       0.000000000       2.714679092\n",
      "         0.000000000       2.714679092       2.714679092\n",
      "        -2.714679092       2.714679092       0.000000000\n",
      "ATOMIC_POSITIONS bohr\n",
      "    Si          0.000000000       0.000000000       0.000000000\n",
      "    Si         -2.565000000       2.565000000       2.565000000\n",
      "\n"
     ]
    }
   ],
   "source": [
    "print(geo)"
   ]
  },
  {
   "cell_type": "code",
   "execution_count": 8,
   "metadata": {
    "collapsed": true
   },
   "outputs": [],
   "source": [
    "geo.replace_ion('Si', 'C')"
   ]
  },
  {
   "cell_type": "code",
   "execution_count": 9,
   "metadata": {},
   "outputs": [
    {
     "name": "stdout",
     "output_type": "stream",
     "text": [
      "&control\n",
      "/\n",
      "&system\n",
      "    ibrav = 0\n",
      "    ntyp = 1\n",
      "    nat = 2\n",
      "/\n",
      "&electrons\n",
      "/\n",
      "CELL_PARAMETERS angstrom\n",
      "        -2.714679092       0.000000000       2.714679092\n",
      "         0.000000000       2.714679092       2.714679092\n",
      "        -2.714679092       2.714679092       0.000000000\n",
      "ATOMIC_POSITIONS bohr\n",
      "    C           0.000000000       0.000000000       0.000000000\n",
      "    C          -2.565000000       2.565000000       2.565000000\n",
      "\n"
     ]
    }
   ],
   "source": [
    "print(geo)"
   ]
  },
  {
   "cell_type": "code",
   "execution_count": 17,
   "metadata": {},
   "outputs": [],
   "source": [
    "import numpy as np\n",
    "P = np.array([[-1,1,-1],[-1,1,1],[1,1,-1]])"
   ]
  },
  {
   "cell_type": "code",
   "execution_count": 18,
   "metadata": {},
   "outputs": [
    {
     "data": {
      "text/plain": [
       "array([[5.42935818, 0.        , 0.        ],\n",
       "       [0.        , 5.42935818, 0.        ],\n",
       "       [0.        , 0.        , 5.42935818]])"
      ]
     },
     "execution_count": 18,
     "metadata": {},
     "output_type": "execute_result"
    }
   ],
   "source": [
    "P.dot(geo.par)"
   ]
  },
  {
   "cell_type": "code",
   "execution_count": 26,
   "metadata": {},
   "outputs": [
    {
     "data": {
      "text/plain": [
       "array([[ 0.        ,  0.        ,  0.        ],\n",
       "       [-1.35733955,  1.35733955,  1.35733955]])"
      ]
     },
     "execution_count": 26,
     "metadata": {},
     "output_type": "execute_result"
    }
   ],
   "source": [
    "geo.pos.dot(geo.par)"
   ]
  },
  {
   "cell_type": "code",
   "execution_count": 40,
   "metadata": {},
   "outputs": [],
   "source": [
    "iP = [1,2,3]\n",
    "P = np.identity(3)\n",
    "for i in range(3):\n",
    "    P[i,i] = iP[i]"
   ]
  },
  {
   "cell_type": "code",
   "execution_count": 41,
   "metadata": {},
   "outputs": [
    {
     "data": {
      "text/plain": [
       "array([[-2.71467909,  0.        ,  2.71467909],\n",
       "       [ 0.        ,  5.42935818,  5.42935818],\n",
       "       [-8.14403728,  8.14403728,  0.        ]])"
      ]
     },
     "execution_count": 41,
     "metadata": {},
     "output_type": "execute_result"
    }
   ],
   "source": [
    "P.dot(geo.par)"
   ]
  },
  {
   "cell_type": "code",
   "execution_count": 43,
   "metadata": {},
   "outputs": [],
   "source": [
    "if geo.pos_units == \"crystal\":\n",
    "    for i in range(3):\n",
    "        geo.pos[:,i] /= P[i,i]"
   ]
  },
  {
   "cell_type": "code",
   "execution_count": 45,
   "metadata": {},
   "outputs": [
    {
     "data": {
      "text/plain": [
       "array([[0.        , 0.        , 0.        ],\n",
       "       [0.25      , 0.125     , 0.08333333]])"
      ]
     },
     "execution_count": 45,
     "metadata": {},
     "output_type": "execute_result"
    }
   ],
   "source": [
    "geo.pos"
   ]
  },
  {
   "cell_type": "code",
   "execution_count": 47,
   "metadata": {},
   "outputs": [
    {
     "name": "stdout",
     "output_type": "stream",
     "text": [
      "[[0.         0.         0.        ]\n",
      " [0.25       0.125      0.08333333]]\n",
      "[[0.         0.         0.        ]\n",
      " [0.25       0.125      0.08333333]]\n",
      "[[0.         0.         0.        ]\n",
      " [0.25       0.125      0.16666667]]\n"
     ]
    }
   ],
   "source": [
    "test = geo.pos\n",
    "for i in range(3):\n",
    "    for j in range(i):\n",
    "        test[:,i] *= (j + 1)\n",
    "    print(test)"
   ]
  },
  {
   "cell_type": "code",
   "execution_count": 3,
   "metadata": {},
   "outputs": [],
   "source": [
    "sinp = pw.qeinp.from_file('Si.sample.in')"
   ]
  },
  {
   "cell_type": "code",
   "execution_count": 5,
   "metadata": {},
   "outputs": [
    {
     "data": {
      "text/plain": [
       "'angstrom'"
      ]
     },
     "execution_count": 5,
     "metadata": {},
     "output_type": "execute_result"
    }
   ],
   "source": [
    "sinp.par_units"
   ]
  },
  {
   "cell_type": "code",
   "execution_count": 17,
   "metadata": {},
   "outputs": [
    {
     "data": {
      "text/plain": [
       "array([[0.  , 0.  , 0.  ],\n",
       "       [0.25, 0.25, 0.25]])"
      ]
     },
     "execution_count": 17,
     "metadata": {},
     "output_type": "execute_result"
    }
   ],
   "source": [
    "sinp.pos[:,:3]"
   ]
  },
  {
   "cell_type": "code",
   "execution_count": 22,
   "metadata": {},
   "outputs": [
    {
     "data": {
      "text/plain": [
       "[0.25, 0.25, 0.25]"
      ]
     },
     "execution_count": 22,
     "metadata": {},
     "output_type": "execute_result"
    }
   ],
   "source": [
    "[max(sinp.pos[:,i]) for i in range(3)]"
   ]
  },
  {
   "cell_type": "code",
   "execution_count": 25,
   "metadata": {},
   "outputs": [
    {
     "data": {
      "text/plain": [
       "[0.0, 2.714679092, 2.714679092]"
      ]
     },
     "execution_count": 25,
     "metadata": {},
     "output_type": "execute_result"
    }
   ],
   "source": [
    "[max(sinp.par[:,i]) for i in range(3)]"
   ]
  },
  {
   "cell_type": "code",
   "execution_count": 26,
   "metadata": {},
   "outputs": [
    {
     "data": {
      "text/plain": [
       "array([[-2.71467909,  0.        ,  2.71467909],\n",
       "       [ 0.        ,  2.71467909,  2.71467909],\n",
       "       [-2.71467909,  2.71467909,  0.        ]])"
      ]
     },
     "execution_count": 26,
     "metadata": {},
     "output_type": "execute_result"
    }
   ],
   "source": [
    "sinp.par"
   ]
  },
  {
   "cell_type": "code",
   "execution_count": 4,
   "metadata": {},
   "outputs": [],
   "source": [
    "import mendeleev"
   ]
  },
  {
   "cell_type": "code",
   "execution_count": 5,
   "metadata": {},
   "outputs": [
    {
     "data": {
      "text/plain": [
       "'Cs'"
      ]
     },
     "execution_count": 5,
     "metadata": {},
     "output_type": "execute_result"
    }
   ],
   "source": [
    "mendeleev.element(55).symbol"
   ]
  },
  {
   "cell_type": "code",
   "execution_count": 2,
   "metadata": {},
   "outputs": [],
   "source": [
    "geo = pw.atomgeo.from_file('../simple.xsf')"
   ]
  },
  {
   "cell_type": "code",
   "execution_count": 3,
   "metadata": {},
   "outputs": [
    {
     "name": "stdout",
     "output_type": "stream",
     "text": [
      "# Generated from the PW2PY python module\n",
      "DIM-GROUP\n",
      "        3      1\n",
      "PRIMVEC\n",
      "         6.005378731       0.000000000       0.000000000\n",
      "         0.000000000       6.005378731       0.000000000\n",
      "         0.000000000       0.000000000       6.005378731\n",
      "CONVVEC\n",
      "         6.005378731       0.000000000       0.000000000\n",
      "         0.000000000       6.005378731       0.000000000\n",
      "         0.000000000       0.000000000       6.005378731\n",
      "PRIMCOORD\n",
      "        5      1\n",
      "       55       0.000000000       0.000000000       0.000000000\n",
      "       82       3.002688890       3.002688890       3.002688890\n",
      "       35       0.000000000       3.002688890       3.002688890\n",
      "       35       3.002688890       0.000000000       3.002688890\n",
      "       35       3.002688890       3.002688890       0.000000000\n",
      "CONVCOORD\n",
      "        5      1\n",
      "       55       0.000000000       0.000000000       0.000000000\n",
      "       82       3.002688890       3.002688890       3.002688890\n",
      "       35       0.000000000       3.002688890       3.002688890\n",
      "       35       3.002688890       0.000000000       3.002688890\n",
      "       35       3.002688890       3.002688890       0.000000000\n",
      "\n"
     ]
    }
   ],
   "source": [
    "print(geo.__str__(ftype='xsf'))"
   ]
  },
  {
   "cell_type": "code",
   "execution_count": 3,
   "metadata": {},
   "outputs": [],
   "source": [
    "geo.write_file('geo.xsf')"
   ]
  },
  {
   "cell_type": "code",
   "execution_count": 4,
   "metadata": {},
   "outputs": [
    {
     "name": "stdout",
     "output_type": "stream",
     "text": [
      "[-5.42935818  0.         16.28807455]\n",
      "[ 0.         10.85871637 16.28807455]\n",
      "[-5.42935818 10.85871637  0.        ]\n"
     ]
    }
   ],
   "source": [
    "P = np.array([1,2,3], dtype=int)\n",
    "for i, par in enumerate(geo.par):\n",
    "    print(par * P)"
   ]
  },
  {
   "cell_type": "code",
   "execution_count": 22,
   "metadata": {},
   "outputs": [
    {
     "data": {
      "text/plain": [
       "array([[ 1,  2,  3],\n",
       "       [ 8, 10, 12],\n",
       "       [21, 24, 27]])"
      ]
     },
     "execution_count": 22,
     "metadata": {},
     "output_type": "execute_result"
    }
   ],
   "source": [
    "test = np.array([[1,2,3],[4,5,6],[7,8,9]])\n",
    "np.multiply([[1],[2],[3]],test)"
   ]
  },
  {
   "cell_type": "code",
   "execution_count": 34,
   "metadata": {},
   "outputs": [
    {
     "data": {
      "text/plain": [
       "array([[ 1,  2,  3],\n",
       "       [ 8, 10, 12],\n",
       "       [21, 24, 27]])"
      ]
     },
     "execution_count": 34,
     "metadata": {},
     "output_type": "execute_result"
    }
   ],
   "source": [
    "np.multiply(test, P.reshape(-1, 1))"
   ]
  },
  {
   "cell_type": "code",
   "execution_count": 33,
   "metadata": {},
   "outputs": [
    {
     "name": "stdout",
     "output_type": "stream",
     "text": [
      "[[0.         0.         0.        ]\n",
      " [3.00268889 3.00268889 3.00268889]\n",
      " [0.         3.00268889 3.00268889]\n",
      " [3.00268889 0.         3.00268889]\n",
      " [3.00268889 3.00268889 0.        ]]\n",
      "[[1 2 3]]\n",
      "[[0.         0.         0.        ]\n",
      " [3.00268889 1.50134444 1.0008963 ]\n",
      " [0.         1.50134444 1.0008963 ]\n",
      " [3.00268889 0.         1.0008963 ]\n",
      " [3.00268889 1.50134444 0.        ]]\n"
     ]
    }
   ],
   "source": [
    "print(geo.pos)\n",
    "print(P.reshape(1, -1))\n",
    "print(np.divide(geo.pos, P.reshape(1, -1)))"
   ]
  },
  {
   "cell_type": "code",
   "execution_count": 38,
   "metadata": {},
   "outputs": [
    {
     "name": "stdout",
     "output_type": "stream",
     "text": [
      "0 0 1\n",
      "0 0 2\n",
      "0 1 0\n",
      "0 1 1\n",
      "0 1 2\n"
     ]
    }
   ],
   "source": [
    "for i in range(P[0]):\n",
    "    for j in range(P[1]):\n",
    "        for k in range(P[2]):\n",
    "            if i == j == k == 0: continue\n",
    "            print (i,j,k)"
   ]
  },
  {
   "cell_type": "code",
   "execution_count": 41,
   "metadata": {},
   "outputs": [
    {
     "data": {
      "text/plain": [
       "0.5"
      ]
     },
     "execution_count": 41,
     "metadata": {},
     "output_type": "execute_result"
    }
   ],
   "source": [
    "int(1)/int(2)"
   ]
  },
  {
   "cell_type": "code",
   "execution_count": 43,
   "metadata": {},
   "outputs": [
    {
     "data": {
      "text/plain": [
       "array([1.        , 0.5       , 0.33333333])"
      ]
     },
     "execution_count": 43,
     "metadata": {},
     "output_type": "execute_result"
    }
   ],
   "source": [
    "1/P"
   ]
  },
  {
   "cell_type": "code",
   "execution_count": 3,
   "metadata": {},
   "outputs": [
    {
     "name": "stdout",
     "output_type": "stream",
     "text": [
      "[[0.    0.    0.   ]\n",
      " [0.125 0.125 0.125]]\n",
      "[[0.  0.  0.5]]\n",
      "[[0.    0.    0.   ]\n",
      " [0.125 0.125 0.125]]\n",
      "[[0.  0.5 0. ]]\n",
      "[[0.    0.    0.   ]\n",
      " [0.125 0.125 0.125]]\n",
      "[[0.  0.5 0.5]]\n",
      "[[0.    0.    0.   ]\n",
      " [0.125 0.125 0.125]]\n",
      "[[0.5 0.  0. ]]\n",
      "[[0.    0.    0.   ]\n",
      " [0.125 0.125 0.125]]\n",
      "[[0.5 0.  0.5]]\n",
      "[[0.    0.    0.   ]\n",
      " [0.125 0.125 0.125]]\n",
      "[[0.5 0.5 0. ]]\n",
      "[[0.    0.    0.   ]\n",
      " [0.125 0.125 0.125]]\n",
      "[[0.5 0.5 0.5]]\n"
     ]
    }
   ],
   "source": [
    "geo.build_supercell([2,2,2])"
   ]
  },
  {
   "cell_type": "code",
   "execution_count": 5,
   "metadata": {},
   "outputs": [],
   "source": [
    "geo.write_file('s222.vasp')"
   ]
  },
  {
   "cell_type": "code",
   "execution_count": 32,
   "metadata": {},
   "outputs": [
    {
     "ename": "AttributeError",
     "evalue": "'atomgeo' object has no attribute 'qedict'",
     "output_type": "error",
     "traceback": [
      "\u001b[0;31m---------------------------------------------------------------------------\u001b[0m",
      "\u001b[0;31mAttributeError\u001b[0m                            Traceback (most recent call last)",
      "\u001b[0;32m<ipython-input-32-5d0ac500b79d>\u001b[0m in \u001b[0;36m<module>\u001b[0;34m\u001b[0m\n\u001b[0;32m----> 1\u001b[0;31m \u001b[0mgeo\u001b[0m\u001b[0;34m.\u001b[0m\u001b[0mqedict\u001b[0m\u001b[0;34m\u001b[0m\u001b[0;34m\u001b[0m\u001b[0m\n\u001b[0m",
      "\u001b[0;31mAttributeError\u001b[0m: 'atomgeo' object has no attribute 'qedict'"
     ]
    }
   ],
   "source": [
    "geo.qedict"
   ]
  },
  {
   "cell_type": "code",
   "execution_count": 35,
   "metadata": {},
   "outputs": [
    {
     "data": {
      "text/plain": [
       "array([1, 1, 1])"
      ]
     },
     "execution_count": 35,
     "metadata": {},
     "output_type": "execute_result"
    }
   ],
   "source": [
    "np.ones(3, dtype=int)"
   ]
  },
  {
   "cell_type": "code",
   "execution_count": 36,
   "metadata": {},
   "outputs": [
    {
     "ename": "KeyError",
     "evalue": "'N'",
     "output_type": "error",
     "traceback": [
      "\u001b[0;31m---------------------------------------------------------------------------\u001b[0m",
      "\u001b[0;31mKeyError\u001b[0m                                  Traceback (most recent call last)",
      "\u001b[0;32m<ipython-input-36-1f3ee162a29b>\u001b[0m in \u001b[0;36m<module>\u001b[0;34m\u001b[0m\n\u001b[1;32m      1\u001b[0m \u001b[0mtest\u001b[0m \u001b[0;34m=\u001b[0m \u001b[0;34m{\u001b[0m\u001b[0;34m'C'\u001b[0m\u001b[0;34m:\u001b[0m\u001b[0;36m3\u001b[0m\u001b[0;34m}\u001b[0m\u001b[0;34m\u001b[0m\u001b[0;34m\u001b[0m\u001b[0m\n\u001b[0;32m----> 2\u001b[0;31m \u001b[0mtest\u001b[0m\u001b[0;34m[\u001b[0m\u001b[0;34m'N'\u001b[0m\u001b[0;34m]\u001b[0m\u001b[0;34m\u001b[0m\u001b[0;34m\u001b[0m\u001b[0m\n\u001b[0m",
      "\u001b[0;31mKeyError\u001b[0m: 'N'"
     ]
    }
   ],
   "source": [
    "test = {'C':3}\n",
    "test['N']"
   ]
  },
  {
   "cell_type": "code",
   "execution_count": null,
   "metadata": {},
   "outputs": [],
   "source": []
  }
 ],
 "metadata": {
  "kernelspec": {
   "display_name": "Python 3",
   "language": "python",
   "name": "python3"
  },
  "language_info": {
   "codemirror_mode": {
    "name": "ipython",
    "version": 3
   },
   "file_extension": ".py",
   "mimetype": "text/x-python",
   "name": "python",
   "nbconvert_exporter": "python",
   "pygments_lexer": "ipython3",
   "version": "3.7.5"
  }
 },
 "nbformat": 4,
 "nbformat_minor": 4
}
