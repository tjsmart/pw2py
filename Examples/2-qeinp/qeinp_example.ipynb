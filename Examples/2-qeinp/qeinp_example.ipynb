{
 "cells": [
  {
   "cell_type": "code",
   "execution_count": null,
   "metadata": {},
   "outputs": [],
   "source": [
    "import pw2py as pw"
   ]
  },
  {
   "cell_type": "markdown",
   "metadata": {},
   "source": [
    "### How to create a qeinp object"
   ]
  },
  {
   "cell_type": "code",
   "execution_count": null,
   "metadata": {},
   "outputs": [],
   "source": [
    "# create an 'qeinp' object from a qe file\n",
    "# specifying the prefix of the file will cause the code to check for both an input and output file (reading geo from output)\n",
    "filename = 'relax'\n",
    "inp = pw.qeinp.from_file(filename)"
   ]
  },
  {
   "cell_type": "markdown",
   "metadata": {},
   "source": [
    "### Attributes of the qeinp object"
   ]
  },
  {
   "cell_type": "code",
   "execution_count": null,
   "metadata": {},
   "outputs": [],
   "source": [
    "# qeinp is a subclass of atomgeo so everything we can do with atomgeo we can do with qeinp\n",
    "print('-'*20, 'inp.ion', '-'*20)\n",
    "print(inp.ion)          # ion names\n",
    "print('-'*20, 'inp.pos_units', '-'*20)\n",
    "print(inp.pos_units)    # units for the positions (crystal, angstrom, and bohr are supported)\n",
    "print('-'*20, 'inp.pos', '-'*20)\n",
    "print(inp.pos)          # xyz positions\n",
    "print('-'*20, 'inp.par_units', '-'*20)\n",
    "print(inp.par_units)    # units for the cell parameters (ibrav supported!)\n",
    "print('-'*20, 'inp.par', '-'*20)\n",
    "print(inp.par)          # cell parameters"
   ]
  },
  {
   "cell_type": "markdown",
   "metadata": {},
   "source": [
    "### QE namelist"
   ]
  },
  {
   "cell_type": "code",
   "execution_count": null,
   "metadata": {},
   "outputs": [],
   "source": [
    "# but now we have information of the qe namelist!\n",
    "print(inp.nml)  # namelists include control, system, electrons, etc."
   ]
  },
  {
   "cell_type": "code",
   "execution_count": null,
   "metadata": {},
   "outputs": [],
   "source": [
    "# the easiest way to access the keys of the namelist is like this:\n",
    "print(inp.nml.ibrav)\n",
    "print(inp.nml.mixing_beta)\n",
    "\n",
    "# but you can also do this\n",
    "print(inp.nml['system']['ibrav'])\n",
    "print(inp.nml['electrons']['mixing_beta'])"
   ]
  },
  {
   "cell_type": "code",
   "execution_count": null,
   "metadata": {},
   "outputs": [],
   "source": [
    "# let's make an nscf calculation\n",
    "inp.nml.calculation = 'nscf'\n",
    "inp.nml.nbnd = 1000\n",
    "inp.kpt = [[4, 4, 4], [0, 0, 0]]\n",
    "\n",
    "# and write the file\n",
    "inp.write_file('nscf.in')"
   ]
  },
  {
   "cell_type": "markdown",
   "metadata": {},
   "source": [
    "### QE Cards"
   ]
  },
  {
   "cell_type": "code",
   "execution_count": null,
   "metadata": {},
   "outputs": [],
   "source": [
    "# let's refresh things\n",
    "inp = pw.qeinp.from_file(filename)"
   ]
  },
  {
   "cell_type": "code",
   "execution_count": null,
   "metadata": {},
   "outputs": [],
   "source": [
    "# we can also see all the cards of the input file\n",
    "print(inp.card)  # cards include ATOMIC_POSITIONS, ATOMIC_SPECIES, K_POINTS, etc.\n",
    "print(inp.card.ATOMIC_SPECIES)"
   ]
  },
  {
   "cell_type": "code",
   "execution_count": null,
   "metadata": {},
   "outputs": [],
   "source": [
    "# if we replace all instances of Sn with Zr\n",
    "inp.replace_ion('Sn', 'Zr')\n",
    "# the ATOMIC_SPECIES will updated automatically!\n",
    "print(inp.card.ATOMIC_SPECIES)"
   ]
  },
  {
   "cell_type": "code",
   "execution_count": null,
   "metadata": {},
   "outputs": [],
   "source": [
    "# print our full input file\n",
    "print(inp)\n",
    "\n",
    "# save to a new input file\n",
    "inp.write_file('zr.in')"
   ]
  },
  {
   "cell_type": "markdown",
   "metadata": {},
   "source": [
    "### Read the help menu"
   ]
  },
  {
   "cell_type": "code",
   "execution_count": null,
   "metadata": {},
   "outputs": [],
   "source": [
    "help(inp)"
   ]
  }
 ],
 "metadata": {
  "kernelspec": {
   "display_name": "Python 3",
   "language": "python",
   "name": "python3"
  },
  "language_info": {
   "codemirror_mode": {
    "name": "ipython",
    "version": 3
   },
   "file_extension": ".py",
   "mimetype": "text/x-python",
   "name": "python",
   "nbconvert_exporter": "python",
   "pygments_lexer": "ipython3",
   "version": "3.8.2"
  }
 },
 "nbformat": 4,
 "nbformat_minor": 4
}
