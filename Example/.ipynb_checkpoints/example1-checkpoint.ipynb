{
 "cells": [
  {
   "cell_type": "code",
   "execution_count": null,
   "metadata": {},
   "outputs": [],
   "source": [
    "# imports the pwscf module (instructions see README.md)\n",
    "import pwscf"
   ]
  },
  {
   "cell_type": "code",
   "execution_count": null,
   "metadata": {},
   "outputs": [],
   "source": [
    "# create qeinp object, reading from a file \"Si.sample.in\"\n",
    "si = pwscf.qeinp.from_file(\"Si.sample.in\")"
   ]
  },
  {
   "cell_type": "code",
   "execution_count": null,
   "metadata": {
    "scrolled": true
   },
   "outputs": [],
   "source": [
    "# methods available for this object (ignoring '__' methods)\n",
    "[d for d in dir(si) if '__' not in d]"
   ]
  },
  {
   "cell_type": "code",
   "execution_count": null,
   "metadata": {},
   "outputs": [],
   "source": [
    "# list of ions\n",
    "si.ion"
   ]
  },
  {
   "cell_type": "code",
   "execution_count": null,
   "metadata": {},
   "outputs": [],
   "source": [
    "# array of k-points\n",
    "si.kpt"
   ]
  },
  {
   "cell_type": "code",
   "execution_count": null,
   "metadata": {},
   "outputs": [],
   "source": [
    "# number of atoms\n",
    "si.nat"
   ]
  },
  {
   "cell_type": "code",
   "execution_count": null,
   "metadata": {},
   "outputs": [],
   "source": [
    "# array of cell parameters\n",
    "si.par"
   ]
  },
  {
   "cell_type": "code",
   "execution_count": null,
   "metadata": {},
   "outputs": [],
   "source": [
    "# array of atomic positions\n",
    "si.pos"
   ]
  },
  {
   "cell_type": "code",
   "execution_count": null,
   "metadata": {},
   "outputs": [],
   "source": [
    "# dictionary of file cards\n",
    "si.qedict"
   ]
  },
  {
   "cell_type": "code",
   "execution_count": null,
   "metadata": {},
   "outputs": [],
   "source": [
    "# for example, access ATOMIC_SPECIES card\n",
    "si.qedict['ATOMIC_SPECIES']"
   ]
  },
  {
   "cell_type": "code",
   "execution_count": null,
   "metadata": {},
   "outputs": [],
   "source": [
    "# main namelists collected under nml (f90nml object)\n",
    "si.qedict['nml']"
   ]
  },
  {
   "cell_type": "code",
   "execution_count": null,
   "metadata": {},
   "outputs": [],
   "source": [
    "# accessing value of ibrav\n",
    "si.qedict['nml']['system']['ibrav']"
   ]
  },
  {
   "cell_type": "code",
   "execution_count": null,
   "metadata": {},
   "outputs": [],
   "source": [
    "# accessing electrons namelist\n",
    "si.qedict['nml']['electrons']"
   ]
  },
  {
   "cell_type": "code",
   "execution_count": null,
   "metadata": {},
   "outputs": [],
   "source": [
    "# let's try changing somethings around\n",
    "\n",
    "si.qedict['nml']['electrons']['mixing_beta'] = 0.3          # change mixing beta to 0.3\n",
    "si.qedict['nml']['control'].pop('pseudo_dir')               # remove pseudo_dir from file\n",
    "si.qedict['nml']['control']['calculation'] = 'relax'        # set calculation to relax\n",
    "si.qedict['ATOMIC_SPECIES'][0][2] = \"si_pbe_v1.uspp.F.UPF\"  # switch to gbrv pseudopotential\n",
    "si.pos[1] += 0.01                                           # shift position of atom id 1 (counting from 0)\n"
   ]
  },
  {
   "cell_type": "code",
   "execution_count": null,
   "metadata": {},
   "outputs": [],
   "source": [
    "# write new qeinp object to a file\n",
    "si.write_file(\"New_Si.sample.in\")"
   ]
  },
  {
   "cell_type": "code",
   "execution_count": null,
   "metadata": {},
   "outputs": [],
   "source": [
    "# str also looks good!\n",
    "print(si)"
   ]
  }
 ],
 "metadata": {
  "kernelspec": {
   "display_name": "Python 3",
   "language": "python",
   "name": "python3"
  },
  "language_info": {
   "codemirror_mode": {
    "name": "ipython",
    "version": 3
   },
   "file_extension": ".py",
   "mimetype": "text/x-python",
   "name": "python",
   "nbconvert_exporter": "python",
   "pygments_lexer": "ipython3",
   "version": "3.7.5"
  }
 },
 "nbformat": 4,
 "nbformat_minor": 4
}
