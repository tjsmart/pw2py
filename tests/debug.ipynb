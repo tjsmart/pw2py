{
 "cells": [
  {
   "cell_type": "code",
   "execution_count": 1,
   "metadata": {},
   "outputs": [],
   "source": [
    "import pw2py as pw\n",
    "import numpy as np\n",
    "from collections import Counter"
   ]
  },
  {
   "cell_type": "code",
   "execution_count": 2,
   "metadata": {},
   "outputs": [],
   "source": [
    "inp = pw.qeinp.from_file('Examples/QEGeo/vc.in')"
   ]
  },
  {
   "cell_type": "code",
   "execution_count": 3,
   "metadata": {},
   "outputs": [
    {
     "name": "stdout",
     "output_type": "stream",
     "text": [
      "&control\n",
      "    calculation = 'vc-relax'\n",
      "    wf_collect = .true.\n",
      "/\n",
      "\n",
      "&system\n",
      "    ibrav = 1\n",
      "    a = 6.017\n",
      "    nat = 5\n",
      "    ntyp = 3\n",
      "    ecutwfc = 80\n",
      "/\n",
      "\n",
      "&electrons\n",
      "    conv_thr = 1e-08\n",
      "/\n",
      "\n",
      "&ions\n",
      "/\n",
      "\n",
      "&cell\n",
      "/\n",
      "\n",
      "ATOMIC_SPECIES\n",
      "    Cs  1.00  Cs_ONCV_PBE-1.0.upf\n",
      "    Pb  1.00  Pb_ONCV_PBE-1.0.upf\n",
      "    Br  1.00  Br_ONCV_PBE-1.0.upf\n",
      "\n",
      "ATOMIC_POSITIONS crystal\n",
      "    Cs         0.000000000       0.000000000       0.000000000\n",
      "    Pb         0.500000000       0.500000000       0.500000000\n",
      "    Br         0.000000000       0.500000000       0.500000000\n",
      "    Br         0.500000000       0.000000000       0.500000000\n",
      "    Br         0.500000000       0.500000000       0.000000000\n",
      "\n",
      "K_POINTS automatic\n",
      "    8  8  8    0  0  0\n",
      "\n",
      "\n"
     ]
    }
   ],
   "source": [
    "print(inp)"
   ]
  },
  {
   "cell_type": "code",
   "execution_count": 5,
   "metadata": {},
   "outputs": [
    {
     "data": {
      "text/plain": [
       "['A',\n",
       " 'B',\n",
       " 'C',\n",
       " '__class__',\n",
       " '__delattr__',\n",
       " '__dict__',\n",
       " '__dir__',\n",
       " '__doc__',\n",
       " '__eq__',\n",
       " '__format__',\n",
       " '__ge__',\n",
       " '__getattribute__',\n",
       " '__gt__',\n",
       " '__hash__',\n",
       " '__init__',\n",
       " '__init_subclass__',\n",
       " '__le__',\n",
       " '__lt__',\n",
       " '__module__',\n",
       " '__ne__',\n",
       " '__new__',\n",
       " '__reduce__',\n",
       " '__reduce_ex__',\n",
       " '__repr__',\n",
       " '__setattr__',\n",
       " '__sizeof__',\n",
       " '__str__',\n",
       " '__subclasshook__',\n",
       " '__weakref__',\n",
       " '_if_pos',\n",
       " '_ion',\n",
       " '_kpt',\n",
       " '_par',\n",
       " '_par_units',\n",
       " '_pos',\n",
       " '_pos_units',\n",
       " 'add_atom',\n",
       " 'build_supercell',\n",
       " 'card',\n",
       " 'celldm',\n",
       " 'cosAB',\n",
       " 'cosAC',\n",
       " 'cosBC',\n",
       " 'from_file',\n",
       " 'ibrav',\n",
       " 'if_pos',\n",
       " 'ion',\n",
       " 'kpt',\n",
       " 'nat',\n",
       " 'nml',\n",
       " 'par',\n",
       " 'par_units',\n",
       " 'pos',\n",
       " 'pos_units',\n",
       " 'remove_indices',\n",
       " 'replace_ion',\n",
       " 'shift_pos_to_unit',\n",
       " 'sort_ions',\n",
       " 'write_file']"
      ]
     },
     "execution_count": 5,
     "metadata": {},
     "output_type": "execute_result"
    }
   ],
   "source": [
    "dir(inp)"
   ]
  },
  {
   "cell_type": "code",
   "execution_count": 5,
   "metadata": {},
   "outputs": [
    {
     "data": {
      "text/plain": [
       "Namelist([('ibrav', 0), ('nat', 5), ('ntyp', 3)])"
      ]
     },
     "execution_count": 5,
     "metadata": {},
     "output_type": "execute_result"
    }
   ],
   "source": [
    "geo._nml"
   ]
  },
  {
   "cell_type": "code",
   "execution_count": 6,
   "metadata": {},
   "outputs": [
    {
     "name": "stdout",
     "output_type": "stream",
     "text": [
      "&control\n",
      "/\n",
      "\n",
      "&system\n",
      "    ibrav = 0\n",
      "    nat = 5\n",
      "    ntyp = 3\n",
      "/\n",
      "\n",
      "&electrons\n",
      "/\n",
      "\n",
      "CELL_PARAMETERS angstrom\n",
      "         6.005378723       0.000000000       0.000000000\n",
      "         0.000000000       6.005378723       0.000000000\n",
      "         0.000000000       0.000000000       6.005378723\n",
      "\n",
      "ATOMIC_POSITIONS crystal\n",
      "    Cs          0.000000000       0.000000000       0.000000000\n",
      "    Pb          0.499999921       0.499999921       0.499999921\n",
      "    Br          0.000000000       0.499999921       0.499999921\n",
      "    Br          0.499999921       0.000000000       0.499999921\n",
      "    Br          0.499999921       0.499999921       0.000000000\n",
      "\n",
      "\n"
     ]
    }
   ],
   "source": [
    "print(geo)"
   ]
  },
  {
   "cell_type": "code",
   "execution_count": null,
   "metadata": {},
   "outputs": [],
   "source": []
  }
 ],
 "metadata": {
  "kernelspec": {
   "display_name": "Python 3",
   "language": "python",
   "name": "python3"
  },
  "language_info": {
   "codemirror_mode": {
    "name": "ipython",
    "version": 3
   },
   "file_extension": ".py",
   "mimetype": "text/x-python",
   "name": "python",
   "nbconvert_exporter": "python",
   "pygments_lexer": "ipython3",
   "version": "3.7.5"
  }
 },
 "nbformat": 4,
 "nbformat_minor": 4
}
