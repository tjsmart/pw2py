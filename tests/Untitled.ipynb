{
 "cells": [
  {
   "cell_type": "code",
   "execution_count": 1,
   "metadata": {},
   "outputs": [],
   "source": [
    "import numpy as np\n",
    "import pw2py as pw"
   ]
  },
  {
   "cell_type": "code",
   "execution_count": 2,
   "metadata": {},
   "outputs": [],
   "source": [
    "geo = pw.atomgeo.from_file('input_files/og.vasp')\n",
    "inp = pw.qeinp.from_file('input_files/og.in')"
   ]
  },
  {
   "cell_type": "code",
   "execution_count": 3,
   "metadata": {},
   "outputs": [],
   "source": [
    "inp.load_geo(geo)"
   ]
  },
  {
   "cell_type": "code",
   "execution_count": 4,
   "metadata": {},
   "outputs": [
    {
     "data": {
      "text/plain": [
       "'angstrom'"
      ]
     },
     "execution_count": 4,
     "metadata": {},
     "output_type": "execute_result"
    }
   ],
   "source": [
    "inp.card.CELL_PARAMETERS"
   ]
  },
  {
   "cell_type": "code",
   "execution_count": 5,
   "metadata": {},
   "outputs": [
    {
     "name": "stdout",
     "output_type": "stream",
     "text": [
      "&control\n",
      "    calculation = 'vc-relax'\n",
      "    wf_collect = .true.\n",
      "/\n",
      "\n",
      "&system\n",
      "    ibrav = 0\n",
      "    nat = 5\n",
      "    ntyp = 3\n",
      "    ecutwfc = 80\n",
      "/\n",
      "\n",
      "&electrons\n",
      "    conv_thr = 1e-08\n",
      "/\n",
      "\n",
      "&ions\n",
      "/\n",
      "\n",
      "&cell\n",
      "/\n",
      "\n",
      "ATOMIC_SPECIES\n",
      "    Cs  1.00  Cs_ONCV_PBE-1.0.upf\n",
      "    Pb  1.00  Pb_ONCV_PBE-1.0.upf\n",
      "    Br  1.00  Br_ONCV_PBE-1.0.upf\n",
      "\n",
      "CELL_PARAMETERS angstrom\n",
      "         6.005378723       0.000000000       0.000000000\n",
      "         0.000000000       6.005378723       0.000000000\n",
      "         0.000000000       0.000000000       6.005378723\n",
      "\n",
      "ATOMIC_POSITIONS crystal\n",
      "    Cs         0.000000000       0.000000000       0.000000000\n",
      "    Pb         0.499999921       0.499999921       0.499999921\n",
      "    Br         0.000000000       0.499999921       0.499999921\n",
      "    Br         0.499999921       0.000000000       0.499999921\n",
      "    Br         0.499999921       0.499999921       0.000000000\n",
      "\n",
      "K_POINTS automatic\n",
      "    8  8  8    0  0  0\n",
      "\n",
      "\n"
     ]
    }
   ],
   "source": [
    "print(inp)"
   ]
  },
  {
   "cell_type": "code",
   "execution_count": 6,
   "metadata": {},
   "outputs": [
    {
     "ename": "AttributeError",
     "evalue": "'qeinp' object has no attribute 'ntyp'",
     "output_type": "error",
     "traceback": [
      "\u001b[0;31m---------------------------------------------------------------------------\u001b[0m",
      "\u001b[0;31mAttributeError\u001b[0m                            Traceback (most recent call last)",
      "\u001b[0;32m<ipython-input-6-e782b838d814>\u001b[0m in \u001b[0;36m<module>\u001b[0;34m\u001b[0m\n\u001b[0;32m----> 1\u001b[0;31m \u001b[0minp\u001b[0m\u001b[0;34m.\u001b[0m\u001b[0mntyp\u001b[0m\u001b[0;34m\u001b[0m\u001b[0;34m\u001b[0m\u001b[0m\n\u001b[0m",
      "\u001b[0;31mAttributeError\u001b[0m: 'qeinp' object has no attribute 'ntyp'"
     ]
    }
   ],
   "source": []
  },
  {
   "cell_type": "code",
   "execution_count": null,
   "metadata": {},
   "outputs": [],
   "source": []
  }
 ],
 "metadata": {
  "kernelspec": {
   "display_name": "Python 3",
   "language": "python",
   "name": "python3"
  },
  "language_info": {
   "codemirror_mode": {
    "name": "ipython",
    "version": 3
   },
   "file_extension": ".py",
   "mimetype": "text/x-python",
   "name": "python",
   "nbconvert_exporter": "python",
   "pygments_lexer": "ipython3",
   "version": "3.8.2"
  }
 },
 "nbformat": 4,
 "nbformat_minor": 4
}
